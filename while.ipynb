{
 "cells": [
  {
   "cell_type": "code",
   "execution_count": 1,
   "id": "45e14f07",
   "metadata": {},
   "outputs": [
    {
     "name": "stdout",
     "output_type": "stream",
     "text": [
      "this is my speed\n",
      "this is my speed\n",
      "this is my speed\n",
      "this is my speed\n",
      "this is my speed\n",
      "this is my speed\n",
      "this is my speed\n"
     ]
    }
   ],
   "source": [
    "isp=0\n",
    "fsp=100\n",
    "count=0\n",
    "while isp<fsp:\n",
    "    print(\"this is my speed\")\n",
    "    count=count+1\n",
    "    if count==7:\n",
    "        break\n",
    "    "
   ]
  },
  {
   "cell_type": "code",
   "execution_count": 2,
   "id": "2768247b",
   "metadata": {},
   "outputs": [
    {
     "name": "stdout",
     "output_type": "stream",
     "text": [
      "1\n",
      "2\n",
      "3\n",
      "4\n",
      "5\n",
      "eat 5-star do nothing\n"
     ]
    }
   ],
   "source": [
    "notes=5\n",
    "i=1\n",
    "j=1\n",
    "while i<notes:\n",
    "    print(i)\n",
    "    i+=1\n",
    "else:\n",
    "    while j<2:\n",
    "        print(i)\n",
    "        j=j+1\n",
    "    print(\"eat 5-star do nothing\")"
   ]
  },
  {
   "cell_type": "code",
   "execution_count": 3,
   "id": "b887a47b",
   "metadata": {},
   "outputs": [
    {
     "data": {
      "text/plain": [
       "'my name is lokesh'"
      ]
     },
     "execution_count": 3,
     "metadata": {},
     "output_type": "execute_result"
    }
   ],
   "source": [
    "s='my name is lokesh'\n",
    "s\n"
   ]
  },
  {
   "cell_type": "code",
   "execution_count": 7,
   "id": "75bd42e2",
   "metadata": {},
   "outputs": [
    {
     "data": {
      "text/plain": [
       "' si eman '"
      ]
     },
     "execution_count": 7,
     "metadata": {},
     "output_type": "execute_result"
    }
   ],
   "source": [
    "s[10:1:-1]"
   ]
  },
  {
   "cell_type": "code",
   "execution_count": 8,
   "id": "5c3eeffa",
   "metadata": {},
   "outputs": [
    {
     "data": {
      "text/plain": [
       "'y name is'"
      ]
     },
     "execution_count": 8,
     "metadata": {},
     "output_type": "execute_result"
    }
   ],
   "source": [
    "s[1:10:1]"
   ]
  },
  {
   "cell_type": "code",
   "execution_count": 13,
   "id": "0ec7379d",
   "metadata": {},
   "outputs": [
    {
     "data": {
      "text/plain": [
       "'heo iea '"
      ]
     },
     "execution_count": 13,
     "metadata": {},
     "output_type": "execute_result"
    }
   ],
   "source": [
    "s[16:0:-2]"
   ]
  },
  {
   "cell_type": "markdown",
   "id": "29c01dba",
   "metadata": {},
   "source": []
  },
  {
   "cell_type": "code",
   "execution_count": 14,
   "id": "2b4904f5",
   "metadata": {},
   "outputs": [],
   "source": [
    "s=\"ineuron\"\n",
    "ss=\" \"\n",
    "for i in range(len(s)):\n",
    "    if s[i]==\"n\":\n",
    "        continue\n",
    "    else:\n",
    "        ss=ss+s[i]"
   ]
  },
  {
   "cell_type": "code",
   "execution_count": 15,
   "id": "e87f5b1b",
   "metadata": {},
   "outputs": [
    {
     "data": {
      "text/plain": [
       "' ieuro'"
      ]
     },
     "execution_count": 15,
     "metadata": {},
     "output_type": "execute_result"
    }
   ],
   "source": [
    "ss\n"
   ]
  },
  {
   "cell_type": "code",
   "execution_count": 23,
   "id": "e4fe63be",
   "metadata": {},
   "outputs": [
    {
     "name": "stdout",
     "output_type": "stream",
     "text": [
      "+ \r\n",
      "+ + \r\n",
      "+ + + \r\n",
      "+ + + + \r\n",
      "+ + + + + \r\n",
      "+ + + + + + \r\n",
      "+ + + + + + + \r\n"
     ]
    }
   ],
   "source": [
    "n=7\n",
    "for i in range(0,n):\n",
    "    for j in range(0,i+1):\n",
    "        print(\"+ \",end=\"\")\n",
    "    print(\"\\r\")"
   ]
  },
  {
   "cell_type": "code",
   "execution_count": 2,
   "id": "f340c97c",
   "metadata": {},
   "outputs": [
    {
     "name": "stdout",
     "output_type": "stream",
     "text": [
      "enter number of rows: 3\n",
      "*****\n",
      " ***\n",
      "  *\n"
     ]
    }
   ],
   "source": [
    "n=int(input(\"enter number of rows: \"))\n",
    "\n",
    "for i in range(n,0,-1):\n",
    "    for j in range(n-i):\n",
    "        print(\" \",end=' ')\n",
    "    \n",
    "    for j in range(2*i-1):\n",
    "        print(\"*\",end=\" \")\n",
    "    print()"
   ]
  },
  {
   "cell_type": "code",
   "execution_count": 5,
   "id": "f7832c70",
   "metadata": {},
   "outputs": [
    {
     "name": "stdout",
     "output_type": "stream",
     "text": [
      "    * * * * \r\n",
      "     * * * \r\n",
      "      * * \r\n",
      "       * \r\n"
     ]
    }
   ],
   "source": [
    "def pattern(n):\n",
    "\n",
    "    k=2*n-2\n",
    "    for i in range(n,-1,-1):\n",
    "        for j in range(k,0,-1):\n",
    "            print(end=\" \")\n",
    "        k=k+1\n",
    "        for j in range(0,i+1):\n",
    "            print(\"*\",end=' ')\n",
    "        print(\"\\r\")\n",
    "pattern(3)"
   ]
  },
  {
   "cell_type": "code",
   "execution_count": 7,
   "id": "44f56f46",
   "metadata": {},
   "outputs": [],
   "source": [
    "##pattern programs"
   ]
  },
  {
   "cell_type": "markdown",
   "id": "24cb3059",
   "metadata": {},
   "source": [
    "num-int(inp)"
   ]
  },
  {
   "cell_type": "code",
   "execution_count": 1,
   "id": "0e0ea8c2",
   "metadata": {},
   "outputs": [
    {
     "name": "stdout",
     "output_type": "stream",
     "text": [
      "enter numbere of rows: 5\n",
      "* * * * * \n",
      " * * * * \n",
      "  * * * \n",
      "   * * \n",
      "    * \n"
     ]
    }
   ],
   "source": [
    "n=int(input(\"enter numbere of rows: \"))\n",
    "for i in range(n):\n",
    "    for j in range(i):\n",
    "        print(\" \",end=\"\")\n",
    "    for j in range(n-i):\n",
    "        print(\"*\",end=' ')\n",
    "    print()"
   ]
  },
  {
   "cell_type": "code",
   "execution_count": 7,
   "id": "c3055c39",
   "metadata": {},
   "outputs": [
    {
     "name": "stdout",
     "output_type": "stream",
     "text": [
      "enter numbere of rows: 4\n",
      "* * * * * * * \n",
      "  * * * * * \n",
      "    * * * \n",
      "      * \n"
     ]
    }
   ],
   "source": [
    "n=int(input(\"enter numbere of rows: \"))\n",
    "for i in range(n):\n",
    "    for j in range(i):\n",
    "        print(\" \",end=\" \")\n",
    "    for j in range(2*(n-i)-1):\n",
    "        print(\"*\",end=' ')\n",
    "    print()"
   ]
  },
  {
   "cell_type": "code",
   "execution_count": 8,
   "id": "67303b56",
   "metadata": {},
   "outputs": [
    {
     "name": "stdout",
     "output_type": "stream",
     "text": [
      "enter numbere of rows: 5\n",
      "enter numbere of rows: 7\n",
      "* * * * * * * \n",
      "*           * \n",
      "*           * \n",
      "*           * \n",
      "* * * * * * * \n"
     ]
    }
   ],
   "source": [
    "row=int(input(\"enter numbere of rows: \"))\n",
    "col=int(input(\"enter numbere of rows: \"))\n",
    "for i in range(row):\n",
    "    for j in range(col):\n",
    "        if i==0 or i==(row-1) or j==0 or j==(col-1):\n",
    "            print(\"*\",end=' ')\n",
    "        else:\n",
    "            print(\" \",end=\" \")\n",
    "    print()"
   ]
  },
  {
   "cell_type": "code",
   "execution_count": 5,
   "id": "8b409e80",
   "metadata": {},
   "outputs": [
    {
     "name": "stdout",
     "output_type": "stream",
     "text": [
      "enter numbere of rows and columns: 5\n",
      "    *\n",
      "   **\n",
      "  * *\n",
      " *  *\n",
      "*****\n"
     ]
    }
   ],
   "source": [
    "n=int(input(\"enter numbere of rows and columns: \"))\n",
    "for i in range(n):\n",
    "    for j in range(n):\n",
    "        if i==(n-1) or j==(n-1) or (i+j)==(n-1):\n",
    "            print(\"*\",end=\"\")\n",
    "        else:\n",
    "            print(\" \",end=\"\")\n",
    "    print()"
   ]
  },
  {
   "cell_type": "code",
   "execution_count": 10,
   "id": "0288ca44",
   "metadata": {},
   "outputs": [
    {
     "name": "stdout",
     "output_type": "stream",
     "text": [
      "enter numbere of rows: 5\n",
      "    * \n",
      "   * * \n",
      "  * * * \n",
      " * * * * \n",
      "* * * * * \n"
     ]
    }
   ],
   "source": [
    "n=int(input(\"enter numbere of rows: \"))\n",
    "for i in range(n):\n",
    "    for j in range(n-i-1):\n",
    "        print(\" \",end=\"\")\n",
    "    for j in range(i+1):\n",
    "        print(\"*\",end=' ')\n",
    "    print()"
   ]
  },
  {
   "cell_type": "code",
   "execution_count": 21,
   "id": "90d2e0ed",
   "metadata": {},
   "outputs": [
    {
     "name": "stdout",
     "output_type": "stream",
     "text": [
      "enter numbere of rows: 5\n",
      "    *\n",
      "   ***\n",
      "  *****\n",
      " *******\n",
      "*********\n"
     ]
    }
   ],
   "source": [
    "n=int(input(\"enter numbere of rows: \"))\n",
    "for i in range(n):\n",
    "    for j in range(n-i-1):\n",
    "        print(\" \",end=\"\")\n",
    "    for j in range(2*i+1):\n",
    "        print(\"*\",end='')\n",
    "    print()"
   ]
  },
  {
   "cell_type": "code",
   "execution_count": 2,
   "id": "09a41bc8",
   "metadata": {},
   "outputs": [
    {
     "name": "stdout",
     "output_type": "stream",
     "text": [
      "enter the no of rows3\n",
      "   *\n",
      "  * *\n",
      " * * *\n"
     ]
    }
   ],
   "source": [
    "n=int(input(\"enter the no of rows\"))\n",
    "i=0\n",
    "while i<n:\n",
    "    print(\" \"*(n-i-1) + \" *\"*(i+1))\n",
    "    i=i+1"
   ]
  },
  {
   "cell_type": "code",
   "execution_count": 7,
   "id": "de9c986e",
   "metadata": {},
   "outputs": [
    {
     "name": "stdout",
     "output_type": "stream",
     "text": [
      "enter the no of rows3\n",
      "  *\n",
      " ***\n",
      "*****\n"
     ]
    }
   ],
   "source": [
    "n=int(input(\"enter the no of rows\"))\n",
    "i=0\n",
    "while i<n:\n",
    "    print(\" \"*(n-i-1) + \"*\"* (2*i+1))\n",
    "    i=i+1"
   ]
  },
  {
   "cell_type": "markdown",
   "id": "5c54ffb6",
   "metadata": {},
   "source": [
    "# string manipulation\n"
   ]
  },
  {
   "cell_type": "code",
   "execution_count": 5,
   "id": "e25a8ea3",
   "metadata": {},
   "outputs": [
    {
     "name": "stdout",
     "output_type": "stream",
     "text": [
      "hijacked no no it is just hi kack"
     ]
    }
   ],
   "source": [
    "s=\"hijacked no no it is just hi kack\"\n",
    "for i in range(len(s)):\n",
    "    print(s[i],end=\"\")"
   ]
  },
  {
   "cell_type": "code",
   "execution_count": 7,
   "id": "fa517e1e",
   "metadata": {},
   "outputs": [
    {
     "data": {
      "text/plain": [
       "'lokesh dhoni'"
      ]
     },
     "execution_count": 7,
     "metadata": {},
     "output_type": "execute_result"
    }
   ],
   "source": [
    "\"lokesh \"+\"dhoni\""
   ]
  },
  {
   "cell_type": "code",
   "execution_count": 9,
   "id": "7f23b8ba",
   "metadata": {},
   "outputs": [
    {
     "data": {
      "text/plain": [
       "' lokesh7'"
      ]
     },
     "execution_count": 9,
     "metadata": {},
     "output_type": "execute_result"
    }
   ],
   "source": [
    "\" lokesh\"+str(7)"
   ]
  },
  {
   "cell_type": "code",
   "execution_count": 12,
   "id": "0036c164",
   "metadata": {},
   "outputs": [
    {
     "data": {
      "text/plain": [
       "8"
      ]
     },
     "execution_count": 12,
     "metadata": {},
     "output_type": "execute_result"
    }
   ],
   "source": [
    "s=\"hi guys how are you\"\n",
    "b=s.find(\"how\")\n",
    "b"
   ]
  },
  {
   "cell_type": "code",
   "execution_count": 14,
   "id": "995f650b",
   "metadata": {},
   "outputs": [
    {
     "name": "stdout",
     "output_type": "stream",
     "text": [
      "8\n",
      "9\n",
      "10\n"
     ]
    }
   ],
   "source": [
    "s=\"hi guys how are you\"\n",
    "b=s.find(\"how\")\n",
    "for i in range(len(\"how\")):\n",
    "    print(b+i)"
   ]
  },
  {
   "cell_type": "code",
   "execution_count": 19,
   "id": "60c82d43",
   "metadata": {},
   "outputs": [
    {
     "data": {
      "text/plain": [
       "3"
      ]
     },
     "execution_count": 19,
     "metadata": {},
     "output_type": "execute_result"
    }
   ],
   "source": [
    "s=\"hi jack hi y lokesh hi dhoni \"\n",
    "s.count(\"hi\")"
   ]
  },
  {
   "cell_type": "code",
   "execution_count": 16,
   "id": "79166a99",
   "metadata": {},
   "outputs": [
    {
     "data": {
      "text/plain": [
       "['hi', 'jack', 'hi', 'lokesh', 'hi', 'dhoni']"
      ]
     },
     "execution_count": 16,
     "metadata": {},
     "output_type": "execute_result"
    }
   ],
   "source": [
    "s.split()"
   ]
  },
  {
   "cell_type": "code",
   "execution_count": 21,
   "id": "275be271",
   "metadata": {},
   "outputs": [
    {
     "data": {
      "text/plain": [
       "['hi gu', 's hello']"
      ]
     },
     "execution_count": 21,
     "metadata": {},
     "output_type": "execute_result"
    }
   ],
   "source": [
    "s=\"hi guys hello\"\n",
    "s.split(\"y\")"
   ]
  },
  {
   "cell_type": "code",
   "execution_count": 22,
   "id": "6bc52968",
   "metadata": {},
   "outputs": [
    {
     "data": {
      "text/plain": [
       "('hi gu', 'y', 's hello')"
      ]
     },
     "execution_count": 22,
     "metadata": {},
     "output_type": "execute_result"
    }
   ],
   "source": [
    "s.partition(\"y\")"
   ]
  },
  {
   "cell_type": "code",
   "execution_count": 28,
   "id": "d6fb6197",
   "metadata": {},
   "outputs": [
    {
     "data": {
      "text/plain": [
       "'hxix xgxuxyxs'"
      ]
     },
     "execution_count": 28,
     "metadata": {},
     "output_type": "execute_result"
    }
   ],
   "source": [
    "s=\"hi guys\"\n",
    "\"x\".join(s)\n",
    "#except last letter it will be added to all the letter"
   ]
  },
  {
   "cell_type": "code",
   "execution_count": 38,
   "id": "748d70c7",
   "metadata": {},
   "outputs": [
    {
     "data": {
      "text/plain": [
       "['s', 'y', 'u', 'g', ' ', 'i', 'h']"
      ]
     },
     "execution_count": 38,
     "metadata": {},
     "output_type": "execute_result"
    }
   ],
   "source": [
    "list(reversed(s))\n"
   ]
  },
  {
   "cell_type": "code",
   "execution_count": 39,
   "id": "04831b30",
   "metadata": {},
   "outputs": [
    {
     "name": "stdout",
     "output_type": "stream",
     "text": [
      "s\n",
      "y\n",
      "u\n",
      "g\n",
      " \n",
      "i\n",
      "h\n"
     ]
    }
   ],
   "source": [
    "for i in reversed(s):\n",
    "    print(i)"
   ]
  },
  {
   "cell_type": "code",
   "execution_count": 40,
   "id": "b381ba57",
   "metadata": {},
   "outputs": [],
   "source": [
    "s=\"   dhoni    \""
   ]
  },
  {
   "cell_type": "code",
   "execution_count": 43,
   "id": "1a158f7e",
   "metadata": {},
   "outputs": [
    {
     "data": {
      "text/plain": [
       "'   dhoni'"
      ]
     },
     "execution_count": 43,
     "metadata": {},
     "output_type": "execute_result"
    }
   ],
   "source": [
    "s.rstrip()"
   ]
  },
  {
   "cell_type": "code",
   "execution_count": 48,
   "id": "53545f07",
   "metadata": {},
   "outputs": [
    {
     "data": {
      "text/plain": [
       "'777loki777'"
      ]
     },
     "execution_count": 48,
     "metadata": {},
     "output_type": "execute_result"
    }
   ],
   "source": [
    "s=\"loki\"\n",
    "s.center(10,\"7\")"
   ]
  },
  {
   "cell_type": "code",
   "execution_count": 50,
   "id": "cf758bc8",
   "metadata": {},
   "outputs": [
    {
     "data": {
      "text/plain": [
       "'loki     hi      sh'"
      ]
     },
     "execution_count": 50,
     "metadata": {},
     "output_type": "execute_result"
    }
   ],
   "source": [
    "s=\"loki\\t hi\\t sh\"\n",
    "s.expandtabs()"
   ]
  },
  {
   "cell_type": "code",
   "execution_count": 60,
   "id": "3e692079",
   "metadata": {},
   "outputs": [
    {
     "name": "stdout",
     "output_type": "stream",
     "text": [
      "we all are part of a full stack\n",
      "numer of a:5\n",
      "3\n",
      "7\n",
      "12\n",
      "19\n",
      "28\n",
      "we  dhoni ll  dhoni re p dhoni rt of  dhoni  full st dhoni ck\n",
      "['we', 'all', 'are', 'part', 'of', 'a', 'full', 'stack']\n"
     ]
    }
   ],
   "source": [
    "a=\"we all are part of a Full Stack\"\n",
    "a=a.lower()\n",
    "print(a)\n",
    "b=a.count(\"a\")\n",
    "print(\"numer of a:\"+str(b))\n",
    "for i in range(len(a)):\n",
    "    if a[i]==\"a\":\n",
    "        print(i)\n",
    "c=a.replace(\"a\",\" dhoni \")\n",
    "print(c)\n",
    "print(a.split())"
   ]
  },
  {
   "cell_type": "code",
   "execution_count": 1,
   "id": "64e6725e",
   "metadata": {},
   "outputs": [
    {
     "name": "stdout",
     "output_type": "stream",
     "text": [
      "h\n",
      "s\n",
      "e\n",
      "k\n",
      "o\n",
      "l\n"
     ]
    }
   ],
   "source": [
    "s=\"lokesh\"\n",
    "ch=len(s)-1\n",
    "while ch>=0:\n",
    "    print(s[ch])\n",
    "    ch=ch-1"
   ]
  },
  {
   "cell_type": "code",
   "execution_count": 2,
   "id": "6173a0fe",
   "metadata": {},
   "outputs": [
    {
     "name": "stdout",
     "output_type": "stream",
     "text": [
      "l is not a vowel \n",
      "o is a vowel \n",
      "k is not a vowel \n",
      "e is a vowel \n",
      "s is not a vowel \n",
      "h is not a vowel \n"
     ]
    }
   ],
   "source": [
    "name=\"lokesh\"\n",
    "vowels=\"aAeEiIoOuU\"\n",
    "for i in name:\n",
    "    if i in vowels:\n",
    "        print(\"{} is a vowel \".format(i))\n",
    "    else:\n",
    "        print(\"{} is not a vowel \".format(i))"
   ]
  },
  {
   "cell_type": "code",
   "execution_count": 5,
   "id": "7fa89f39",
   "metadata": {},
   "outputs": [
    {
     "data": {
      "text/plain": [
       "'my name is lokesh'"
      ]
     },
     "execution_count": 5,
     "metadata": {},
     "output_type": "execute_result"
    }
   ],
   "source": [
    "\"{} name {} lokesh\".format(\"my\",\"is\")"
   ]
  },
  {
   "cell_type": "code",
   "execution_count": 3,
   "id": "39a519ec",
   "metadata": {},
   "outputs": [
    {
     "name": "stdout",
     "output_type": "stream",
     "text": [
      "enter a strighui\n",
      "its not a palindrome \n"
     ]
    }
   ],
   "source": [
    "s=str(input(\"enter a strig\"))\n",
    "s1=s[::-1]\n",
    "if s==s1:\n",
    "    print(\"its palindrome\")\n",
    "else:\n",
    "    print(\"its not a palindrome \")"
   ]
  },
  {
   "cell_type": "code",
   "execution_count": 4,
   "id": "d031c4cc",
   "metadata": {},
   "outputs": [],
   "source": [
    "k=[\"dfg\",45,56,\"fdfh\"]\n"
   ]
  },
  {
   "cell_type": "code",
   "execution_count": 5,
   "id": "62814837",
   "metadata": {},
   "outputs": [],
   "source": [
    "s=\"lokesh\"\n",
    "s=list(s)"
   ]
  },
  {
   "cell_type": "code",
   "execution_count": 6,
   "id": "109b7502",
   "metadata": {},
   "outputs": [
    {
     "data": {
      "text/plain": [
       "['dfg', 45, 56, 'fdfh', 'l', 'o', 'k', 'e', 's', 'h']"
      ]
     },
     "execution_count": 6,
     "metadata": {},
     "output_type": "execute_result"
    }
   ],
   "source": [
    "k+s"
   ]
  },
  {
   "cell_type": "code",
   "execution_count": 8,
   "id": "d95a7df9",
   "metadata": {},
   "outputs": [
    {
     "data": {
      "text/plain": [
       "['dfg', 45, 56, 'fdfh', 'lokesh']"
      ]
     },
     "execution_count": 8,
     "metadata": {},
     "output_type": "execute_result"
    }
   ],
   "source": [
    "s=[\"lokesh\"]\n",
    "k+s"
   ]
  },
  {
   "cell_type": "code",
   "execution_count": 10,
   "id": "78964ed3",
   "metadata": {},
   "outputs": [
    {
     "name": "stdout",
     "output_type": "stream",
     "text": [
      "my name is  lokesh and my age is 19\n",
      "my name is lokesh and my age is 19\n"
     ]
    }
   ],
   "source": [
    "name=\"lokesh\"\n",
    "age=\"19\"\n",
    "print(\"my name is \",name,\"and my age is\",age)\n",
    "print(\"my name is {} and my age is {}\".format(name,age))"
   ]
  },
  {
   "cell_type": "code",
   "execution_count": 11,
   "id": "7e579bfb",
   "metadata": {},
   "outputs": [
    {
     "name": "stdout",
     "output_type": "stream",
     "text": [
      "\n"
     ]
    }
   ],
   "source": [
    "a=10\n",
    "print()"
   ]
  },
  {
   "cell_type": "code",
   "execution_count": 14,
   "id": "7a275899",
   "metadata": {},
   "outputs": [
    {
     "data": {
      "text/plain": [
       "8"
      ]
     },
     "execution_count": 14,
     "metadata": {},
     "output_type": "execute_result"
    }
   ],
   "source": [
    "4 and 8"
   ]
  },
  {
   "cell_type": "code",
   "execution_count": 22,
   "id": "8b755ca2",
   "metadata": {},
   "outputs": [
    {
     "name": "stdout",
     "output_type": "stream",
     "text": [
      " \n",
      "h\n",
      "s\n",
      "e\n",
      "k\n",
      "o\n",
      "l\n",
      " \n",
      "i\n",
      "h\n"
     ]
    }
   ],
   "source": [
    "s=\" hi lokesh\"\n",
    "for i in range(len(s)):\n",
    "        print(s[-i])"
   ]
  },
  {
   "cell_type": "code",
   "execution_count": null,
   "id": "8c206bd3",
   "metadata": {},
   "outputs": [],
   "source": []
  }
 ],
 "metadata": {
  "kernelspec": {
   "display_name": "Python 3",
   "language": "python",
   "name": "python3"
  },
  "language_info": {
   "codemirror_mode": {
    "name": "ipython",
    "version": 3
   },
   "file_extension": ".py",
   "mimetype": "text/x-python",
   "name": "python",
   "nbconvert_exporter": "python",
   "pygments_lexer": "ipython3",
   "version": "3.6.9"
  }
 },
 "nbformat": 4,
 "nbformat_minor": 5
}
