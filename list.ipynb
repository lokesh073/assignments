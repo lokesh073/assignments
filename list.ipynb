{
 "cells": [
  {
   "cell_type": "code",
   "execution_count": 8,
   "id": "4551540f",
   "metadata": {},
   "outputs": [
    {
     "data": {
      "text/plain": [
       "7777"
      ]
     },
     "execution_count": 8,
     "metadata": {},
     "output_type": "execute_result"
    }
   ],
   "source": [
    "s=[\"jsfgj\",7777,\"hfd3\"]\n",
    "s[1]\n"
   ]
  },
  {
   "cell_type": "code",
   "execution_count": 9,
   "id": "b99e44a0",
   "metadata": {},
   "outputs": [
    {
     "data": {
      "text/plain": [
       "list"
      ]
     },
     "execution_count": 9,
     "metadata": {},
     "output_type": "execute_result"
    }
   ],
   "source": [
    "type(s)"
   ]
  },
  {
   "cell_type": "code",
   "execution_count": 19,
   "id": "d6267e5c",
   "metadata": {},
   "outputs": [
    {
     "name": "stdout",
     "output_type": "stream",
     "text": [
      "<class 'str'>\n",
      "<class 'int'>\n",
      "<class 'str'>\n"
     ]
    }
   ],
   "source": [
    "l=[\"dsgg\",34543,0.56969,23+7j,[\"dhfh\",45,\"fhjb\"],\"rheug\"]\n",
    "for i in l:\n",
    "    if type(i) == list:\n",
    "        for j in i:\n",
    "            print(type(j))"
   ]
  },
  {
   "cell_type": "code",
   "execution_count": 22,
   "id": "2d94b82e",
   "metadata": {},
   "outputs": [
    {
     "name": "stdout",
     "output_type": "stream",
     "text": [
      "<class 'str'>\n",
      "34\n",
      "<class 'int'>\n",
      "79\n",
      "<class 'int'>\n",
      "<class 'str'>\n"
     ]
    }
   ],
   "source": [
    "l=[\"dsgg\",34543,0.56969,23+7j,[\"dhfh\",34,45,\"fhjb\"],\"rheug\"]\n",
    "for i in l:\n",
    "    if type(i) == list:\n",
    "        n=0\n",
    "        for j in i:\n",
    "            if type(j)==int:\n",
    "                n=n+j\n",
    "                print(n)\n",
    "            print(type(j))"
   ]
  },
  {
   "cell_type": "code",
   "execution_count": 3,
   "id": "a61e8e50",
   "metadata": {},
   "outputs": [
    {
     "data": {
      "text/plain": [
       "['dsgg', 34543, 0.56969, (23+7j), ['dhfh', 34, 45, 'fhjb'], 'rheug']"
      ]
     },
     "execution_count": 3,
     "metadata": {},
     "output_type": "execute_result"
    }
   ],
   "source": [
    "l=[\"dsgg\",34543,0.56969,23+7j,[\"dhfh\",34,45,\"fhjb\"],\"rheug\"]\n",
    "l"
   ]
  },
  {
   "cell_type": "code",
   "execution_count": 7,
   "id": "eb5ef08b",
   "metadata": {},
   "outputs": [
    {
     "data": {
      "text/plain": [
       "[['dhfh', 34, 45, 'fhjb'], 'rheug']"
      ]
     },
     "execution_count": 7,
     "metadata": {},
     "output_type": "execute_result"
    }
   ],
   "source": [
    "l[4:30:1]"
   ]
  },
  {
   "cell_type": "code",
   "execution_count": 9,
   "id": "9371f0e6",
   "metadata": {},
   "outputs": [
    {
     "data": {
      "text/plain": [
       "[0, 1, 2, 3, 4, 5, 6, 7, 8, 9]"
      ]
     },
     "execution_count": 9,
     "metadata": {},
     "output_type": "execute_result"
    }
   ],
   "source": [
    "list(range(10))"
   ]
  },
  {
   "cell_type": "code",
   "execution_count": 12,
   "id": "519c0c01",
   "metadata": {},
   "outputs": [
    {
     "ename": "SyntaxError",
     "evalue": "invalid syntax (<ipython-input-12-cda9dbc17a07>, line 1)",
     "output_type": "error",
     "traceback": [
      "\u001b[0;36m  File \u001b[0;32m\"<ipython-input-12-cda9dbc17a07>\"\u001b[0;36m, line \u001b[0;32m1\u001b[0m\n\u001b[0;31m    range(0:10)\u001b[0m\n\u001b[0m           ^\u001b[0m\n\u001b[0;31mSyntaxError\u001b[0m\u001b[0;31m:\u001b[0m invalid syntax\n"
     ]
    }
   ],
   "source": [
    "range()"
   ]
  },
  {
   "cell_type": "code",
   "execution_count": null,
   "id": "9a7ee03a",
   "metadata": {},
   "outputs": [],
   "source": []
  }
 ],
 "metadata": {
  "kernelspec": {
   "display_name": "Python 3",
   "language": "python",
   "name": "python3"
  },
  "language_info": {
   "codemirror_mode": {
    "name": "ipython",
    "version": 3
   },
   "file_extension": ".py",
   "mimetype": "text/x-python",
   "name": "python",
   "nbconvert_exporter": "python",
   "pygments_lexer": "ipython3",
   "version": "3.6.9"
  }
 },
 "nbformat": 4,
 "nbformat_minor": 5
}
